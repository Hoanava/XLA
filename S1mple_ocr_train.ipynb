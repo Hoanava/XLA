{
  "nbformat": 4,
  "nbformat_minor": 0,
  "metadata": {
    "colab": {
      "name": "S1mple_ocr.ipynb",
      "provenance": [],
      "collapsed_sections": [],
      "authorship_tag": "ABX9TyPvlYkWYQBMyxmvU0UbpcMx",
      "include_colab_link": true
    },
    "kernelspec": {
      "name": "python3",
      "display_name": "Python 3"
    },
    "language_info": {
      "name": "python"
    },
    "widgets": {
      "application/vnd.jupyter.widget-state+json": {
        "a8700d3a60574646bb8c27c56f4367ab": {
          "model_module": "@jupyter-widgets/controls",
          "model_name": "HBoxModel",
          "model_module_version": "1.5.0",
          "state": {
            "_view_name": "HBoxView",
            "_dom_classes": [],
            "_model_name": "HBoxModel",
            "_view_module": "@jupyter-widgets/controls",
            "_model_module_version": "1.5.0",
            "_view_count": null,
            "_view_module_version": "1.5.0",
            "box_style": "",
            "layout": "IPY_MODEL_cf3f6170f5474ffca91934a73bd43aa1",
            "_model_module": "@jupyter-widgets/controls",
            "children": [
              "IPY_MODEL_ae7a24b0e0144fe7808298f152ae32aa",
              "IPY_MODEL_c6160f8c9b9e4f39bf4e5ae2f03de3b2",
              "IPY_MODEL_e38b269ea94948b0b8e44287661887cb"
            ]
          }
        },
        "cf3f6170f5474ffca91934a73bd43aa1": {
          "model_module": "@jupyter-widgets/base",
          "model_name": "LayoutModel",
          "model_module_version": "1.2.0",
          "state": {
            "_view_name": "LayoutView",
            "grid_template_rows": null,
            "right": null,
            "justify_content": null,
            "_view_module": "@jupyter-widgets/base",
            "overflow": null,
            "_model_module_version": "1.2.0",
            "_view_count": null,
            "flex_flow": null,
            "width": null,
            "min_width": null,
            "border": null,
            "align_items": null,
            "bottom": null,
            "_model_module": "@jupyter-widgets/base",
            "top": null,
            "grid_column": null,
            "overflow_y": null,
            "overflow_x": null,
            "grid_auto_flow": null,
            "grid_area": null,
            "grid_template_columns": null,
            "flex": null,
            "_model_name": "LayoutModel",
            "justify_items": null,
            "grid_row": null,
            "max_height": null,
            "align_content": null,
            "visibility": null,
            "align_self": null,
            "height": null,
            "min_height": null,
            "padding": null,
            "grid_auto_rows": null,
            "grid_gap": null,
            "max_width": null,
            "order": null,
            "_view_module_version": "1.2.0",
            "grid_template_areas": null,
            "object_position": null,
            "object_fit": null,
            "grid_auto_columns": null,
            "margin": null,
            "display": null,
            "left": null
          }
        },
        "ae7a24b0e0144fe7808298f152ae32aa": {
          "model_module": "@jupyter-widgets/controls",
          "model_name": "HTMLModel",
          "model_module_version": "1.5.0",
          "state": {
            "_view_name": "HTMLView",
            "style": "IPY_MODEL_2cc410f1430f4e3d8f1570fd2c11983d",
            "_dom_classes": [],
            "description": "",
            "_model_name": "HTMLModel",
            "placeholder": "​",
            "_view_module": "@jupyter-widgets/controls",
            "_model_module_version": "1.5.0",
            "value": "100%",
            "_view_count": null,
            "_view_module_version": "1.5.0",
            "description_tooltip": null,
            "_model_module": "@jupyter-widgets/controls",
            "layout": "IPY_MODEL_068f2116d0e34311b80ad9c66725055a"
          }
        },
        "c6160f8c9b9e4f39bf4e5ae2f03de3b2": {
          "model_module": "@jupyter-widgets/controls",
          "model_name": "FloatProgressModel",
          "model_module_version": "1.5.0",
          "state": {
            "_view_name": "ProgressView",
            "style": "IPY_MODEL_dbbd70134af94d41b02806a18e30ec43",
            "_dom_classes": [],
            "description": "",
            "_model_name": "FloatProgressModel",
            "bar_style": "success",
            "max": 102530333,
            "_view_module": "@jupyter-widgets/controls",
            "_model_module_version": "1.5.0",
            "value": 102530333,
            "_view_count": null,
            "_view_module_version": "1.5.0",
            "orientation": "horizontal",
            "min": 0,
            "description_tooltip": null,
            "_model_module": "@jupyter-widgets/controls",
            "layout": "IPY_MODEL_63564859d5eb4a869aa2d60fe0c70568"
          }
        },
        "e38b269ea94948b0b8e44287661887cb": {
          "model_module": "@jupyter-widgets/controls",
          "model_name": "HTMLModel",
          "model_module_version": "1.5.0",
          "state": {
            "_view_name": "HTMLView",
            "style": "IPY_MODEL_61b31babcc41432c8add76d03633d847",
            "_dom_classes": [],
            "description": "",
            "_model_name": "HTMLModel",
            "placeholder": "​",
            "_view_module": "@jupyter-widgets/controls",
            "_model_module_version": "1.5.0",
            "value": " 97.8M/97.8M [00:02&lt;00:00, 49.1MB/s]",
            "_view_count": null,
            "_view_module_version": "1.5.0",
            "description_tooltip": null,
            "_model_module": "@jupyter-widgets/controls",
            "layout": "IPY_MODEL_2cd5e8c4c1cb4d1c8d1de8c69d2fa648"
          }
        },
        "2cc410f1430f4e3d8f1570fd2c11983d": {
          "model_module": "@jupyter-widgets/controls",
          "model_name": "DescriptionStyleModel",
          "model_module_version": "1.5.0",
          "state": {
            "_view_name": "StyleView",
            "_model_name": "DescriptionStyleModel",
            "description_width": "",
            "_view_module": "@jupyter-widgets/base",
            "_model_module_version": "1.5.0",
            "_view_count": null,
            "_view_module_version": "1.2.0",
            "_model_module": "@jupyter-widgets/controls"
          }
        },
        "068f2116d0e34311b80ad9c66725055a": {
          "model_module": "@jupyter-widgets/base",
          "model_name": "LayoutModel",
          "model_module_version": "1.2.0",
          "state": {
            "_view_name": "LayoutView",
            "grid_template_rows": null,
            "right": null,
            "justify_content": null,
            "_view_module": "@jupyter-widgets/base",
            "overflow": null,
            "_model_module_version": "1.2.0",
            "_view_count": null,
            "flex_flow": null,
            "width": null,
            "min_width": null,
            "border": null,
            "align_items": null,
            "bottom": null,
            "_model_module": "@jupyter-widgets/base",
            "top": null,
            "grid_column": null,
            "overflow_y": null,
            "overflow_x": null,
            "grid_auto_flow": null,
            "grid_area": null,
            "grid_template_columns": null,
            "flex": null,
            "_model_name": "LayoutModel",
            "justify_items": null,
            "grid_row": null,
            "max_height": null,
            "align_content": null,
            "visibility": null,
            "align_self": null,
            "height": null,
            "min_height": null,
            "padding": null,
            "grid_auto_rows": null,
            "grid_gap": null,
            "max_width": null,
            "order": null,
            "_view_module_version": "1.2.0",
            "grid_template_areas": null,
            "object_position": null,
            "object_fit": null,
            "grid_auto_columns": null,
            "margin": null,
            "display": null,
            "left": null
          }
        },
        "dbbd70134af94d41b02806a18e30ec43": {
          "model_module": "@jupyter-widgets/controls",
          "model_name": "ProgressStyleModel",
          "model_module_version": "1.5.0",
          "state": {
            "_view_name": "StyleView",
            "_model_name": "ProgressStyleModel",
            "description_width": "",
            "_view_module": "@jupyter-widgets/base",
            "_model_module_version": "1.5.0",
            "_view_count": null,
            "_view_module_version": "1.2.0",
            "bar_color": null,
            "_model_module": "@jupyter-widgets/controls"
          }
        },
        "63564859d5eb4a869aa2d60fe0c70568": {
          "model_module": "@jupyter-widgets/base",
          "model_name": "LayoutModel",
          "model_module_version": "1.2.0",
          "state": {
            "_view_name": "LayoutView",
            "grid_template_rows": null,
            "right": null,
            "justify_content": null,
            "_view_module": "@jupyter-widgets/base",
            "overflow": null,
            "_model_module_version": "1.2.0",
            "_view_count": null,
            "flex_flow": null,
            "width": null,
            "min_width": null,
            "border": null,
            "align_items": null,
            "bottom": null,
            "_model_module": "@jupyter-widgets/base",
            "top": null,
            "grid_column": null,
            "overflow_y": null,
            "overflow_x": null,
            "grid_auto_flow": null,
            "grid_area": null,
            "grid_template_columns": null,
            "flex": null,
            "_model_name": "LayoutModel",
            "justify_items": null,
            "grid_row": null,
            "max_height": null,
            "align_content": null,
            "visibility": null,
            "align_self": null,
            "height": null,
            "min_height": null,
            "padding": null,
            "grid_auto_rows": null,
            "grid_gap": null,
            "max_width": null,
            "order": null,
            "_view_module_version": "1.2.0",
            "grid_template_areas": null,
            "object_position": null,
            "object_fit": null,
            "grid_auto_columns": null,
            "margin": null,
            "display": null,
            "left": null
          }
        },
        "61b31babcc41432c8add76d03633d847": {
          "model_module": "@jupyter-widgets/controls",
          "model_name": "DescriptionStyleModel",
          "model_module_version": "1.5.0",
          "state": {
            "_view_name": "StyleView",
            "_model_name": "DescriptionStyleModel",
            "description_width": "",
            "_view_module": "@jupyter-widgets/base",
            "_model_module_version": "1.5.0",
            "_view_count": null,
            "_view_module_version": "1.2.0",
            "_model_module": "@jupyter-widgets/controls"
          }
        },
        "2cd5e8c4c1cb4d1c8d1de8c69d2fa648": {
          "model_module": "@jupyter-widgets/base",
          "model_name": "LayoutModel",
          "model_module_version": "1.2.0",
          "state": {
            "_view_name": "LayoutView",
            "grid_template_rows": null,
            "right": null,
            "justify_content": null,
            "_view_module": "@jupyter-widgets/base",
            "overflow": null,
            "_model_module_version": "1.2.0",
            "_view_count": null,
            "flex_flow": null,
            "width": null,
            "min_width": null,
            "border": null,
            "align_items": null,
            "bottom": null,
            "_model_module": "@jupyter-widgets/base",
            "top": null,
            "grid_column": null,
            "overflow_y": null,
            "overflow_x": null,
            "grid_auto_flow": null,
            "grid_area": null,
            "grid_template_columns": null,
            "flex": null,
            "_model_name": "LayoutModel",
            "justify_items": null,
            "grid_row": null,
            "max_height": null,
            "align_content": null,
            "visibility": null,
            "align_self": null,
            "height": null,
            "min_height": null,
            "padding": null,
            "grid_auto_rows": null,
            "grid_gap": null,
            "max_width": null,
            "order": null,
            "_view_module_version": "1.2.0",
            "grid_template_areas": null,
            "object_position": null,
            "object_fit": null,
            "grid_auto_columns": null,
            "margin": null,
            "display": null,
            "left": null
          }
        }
      }
    },
    "accelerator": "GPU"
  },
  "cells": [
    {
      "cell_type": "markdown",
      "metadata": {
        "id": "view-in-github",
        "colab_type": "text"
      },
      "source": [
        "<a href=\"https://colab.research.google.com/github/Hoanava/XLA/blob/main/S1mple_ocr_train.ipynb\" target=\"_parent\"><img src=\"https://colab.research.google.com/assets/colab-badge.svg\" alt=\"Open In Colab\"/></a>"
      ]
    },
    {
      "cell_type": "code",
      "metadata": {
        "colab": {
          "base_uri": "https://localhost:8080/"
        },
        "id": "qANZu4mAr8_n",
        "outputId": "0ea94e08-c58d-418e-ffce-89e05496b8db"
      },
      "source": [
        "import torch\n",
        "import torch.nn as nn\n",
        "from torch.nn import functional as F\n",
        "import torch.optim as optim\n",
        "from torch.optim import lr_scheduler\n",
        "from torch.autograd import Variable\n",
        "import numpy as np\n",
        "import torchvision\n",
        "from torchvision import datasets, models, transforms\n",
        "import matplotlib.pyplot as plt\n",
        "import time\n",
        "import os\n",
        "import copy\n",
        "\n",
        "from PIL import Image\n",
        "from google.colab import drive\n",
        "\n",
        "plt.ion()  \n",
        "\n",
        "use_gpu = torch.cuda.is_available()\n",
        "if use_gpu:\n",
        "    print(\"Using CUDA\")\n",
        "\n",
        "\n",
        "import torch, torchvision\n",
        "from torchvision import datasets, models, transforms\n",
        "import torch.nn as nn\n",
        "import torch.optim as optim\n",
        "from torch.utils.data import DataLoader\n",
        "import time\n",
        "from torchsummary import summary\n",
        "\n",
        "import numpy as np\n",
        "import matplotlib.pyplot as plt\n",
        "import os\n",
        "\n",
        "from PIL import Image\n",
        "from google.colab import drive"
      ],
      "execution_count": 17,
      "outputs": [
        {
          "output_type": "stream",
          "name": "stdout",
          "text": [
            "Using CUDA\n"
          ]
        }
      ]
    },
    {
      "cell_type": "code",
      "metadata": {
        "colab": {
          "base_uri": "https://localhost:8080/"
        },
        "id": "P0S-LdA7r_sT",
        "outputId": "8fc81d9a-69fe-4218-e80b-858449325ebc"
      },
      "source": [
        "drive.mount(\"/content/drive\")\n",
        "!unzip -uq \"/content/drive/My Drive/data.zip\" -d \"./\""
      ],
      "execution_count": 6,
      "outputs": [
        {
          "output_type": "stream",
          "name": "stdout",
          "text": [
            "Mounted at /content/drive\n"
          ]
        }
      ]
    },
    {
      "cell_type": "code",
      "metadata": {
        "colab": {
          "base_uri": "https://localhost:8080/"
        },
        "id": "MnRIghHSsG3j",
        "outputId": "b66cafc1-999a-45cd-99e2-0f8d27de0c12"
      },
      "source": [
        "data_dir = 'data'\n",
        "TRAIN = 'train'\n",
        "VAL = 'val'\n",
        "\n",
        "data_transforms = {\n",
        "    TRAIN: transforms.Compose([\n",
        "        transforms.RandomResizedCrop(224),\n",
        "        transforms.RandomHorizontalFlip(p=0.3),\n",
        "        transforms.RandomVerticalFlip(p=0.3),\n",
        "        transforms.RandomRotation(degrees=15),\n",
        "        transforms.ToTensor(),\n",
        "    ]),\n",
        "    VAL: transforms.Compose([\n",
        "        transforms.Resize(256),\n",
        "        transforms.CenterCrop(224),\n",
        "        transforms.ToTensor(),\n",
        "    ]),\n",
        "}\n",
        "\n",
        "image_datasets = {\n",
        "    x: datasets.ImageFolder(\n",
        "        os.path.join(data_dir, x), \n",
        "        transform=data_transforms[x]\n",
        "    )\n",
        "    for x in [TRAIN, VAL]\n",
        "}\n",
        "\n",
        "dataloaders = {\n",
        "    x: torch.utils.data.DataLoader(\n",
        "        image_datasets[x], batch_size=8,\n",
        "        shuffle=True, num_workers=4\n",
        "    )\n",
        "    for x in [TRAIN, VAL]\n",
        "}\n",
        "\n",
        "dataset_sizes = {x: len(image_datasets[x]) for x in [TRAIN, VAL]}"
      ],
      "execution_count": 7,
      "outputs": [
        {
          "output_type": "stream",
          "name": "stderr",
          "text": [
            "/usr/local/lib/python3.7/dist-packages/torch/utils/data/dataloader.py:481: UserWarning: This DataLoader will create 4 worker processes in total. Our suggested max number of worker in current system is 2, which is smaller than what this DataLoader is going to create. Please be aware that excessive worker creation might get DataLoader running slow or even freeze, lower the worker number to avoid potential slowness/freeze if necessary.\n",
            "  cpuset_checked))\n"
          ]
        }
      ]
    },
    {
      "cell_type": "code",
      "metadata": {
        "colab": {
          "base_uri": "https://localhost:8080/"
        },
        "id": "r-3zoPKYsPKS",
        "outputId": "6bffbebe-eeb0-46cb-83d8-1a8eef602960"
      },
      "source": [
        "for x in [TRAIN, VAL]:\n",
        "    print(\"Loaded {} images under {}\".format(dataset_sizes[x], x))\n",
        "    \n",
        "print(\"Classes: \")\n",
        "class_names = image_datasets[TRAIN].classes\n",
        "print(image_datasets[TRAIN].classes)"
      ],
      "execution_count": 8,
      "outputs": [
        {
          "output_type": "stream",
          "name": "stdout",
          "text": [
            "Loaded 482 images under train\n",
            "Loaded 138 images under val\n",
            "Classes: \n",
            "['highlands', 'others', 'phuclong', 'starbucks']\n"
          ]
        }
      ]
    },
    {
      "cell_type": "code",
      "metadata": {
        "colab": {
          "base_uri": "https://localhost:8080/",
          "height": 171
        },
        "id": "QE7MfzxOsUtE",
        "outputId": "839d7eb0-139d-4569-f49f-8d35745b6019"
      },
      "source": [
        "def imshow(inp, title=None):\n",
        "    inp = inp.numpy().transpose((1, 2, 0))\n",
        "    plt.figure(figsize=(10, 10))\n",
        "    plt.axis('off')\n",
        "    plt.imshow(inp)\n",
        "    if title is not None:\n",
        "        plt.title(title)\n",
        "    plt.pause(0.001)\n",
        "\n",
        "def show_databatch(inputs, classes):\n",
        "    out = torchvision.utils.make_grid(inputs)\n",
        "    imshow(out, title=[class_names[x] for x in classes])\n",
        "\n",
        "# Get a batch of training data\n",
        "inputs, classes = next(iter(dataloaders[TRAIN]))\n",
        "show_databatch(inputs, classes)"
      ],
      "execution_count": 9,
      "outputs": [
        {
          "output_type": "stream",
          "name": "stderr",
          "text": [
            "/usr/local/lib/python3.7/dist-packages/torch/utils/data/dataloader.py:481: UserWarning: This DataLoader will create 4 worker processes in total. Our suggested max number of worker in current system is 2, which is smaller than what this DataLoader is going to create. Please be aware that excessive worker creation might get DataLoader running slow or even freeze, lower the worker number to avoid potential slowness/freeze if necessary.\n",
            "  cpuset_checked))\n"
          ]
        },
        {
          "output_type": "display_data",
          "data": {
            "image/png": "[encoded data removed]",
            "text/plain": [
              "<Figure size 720x720 with 1 Axes>"
            ]
          },
          "metadata": {
            "needs_background": "light"
          }
        }
      ]
    },
    {
      "cell_type": "code",
      "metadata": {
        "id": "e3-Z0cNbsbj1"
      },
      "source": [
        "def train_model(model, criterion, optimizer, scheduler, num_epochs=10):\n",
        "    since = time.time()\n",
        "    best_model_wts = copy.deepcopy(model.state_dict())\n",
        "    best_acc = 0.0\n",
        "    \n",
        "    avg_loss = 0\n",
        "    avg_acc = 0\n",
        "    avg_loss_val = 0\n",
        "    avg_acc_val = 0\n",
        "    \n",
        "    train_batches = len(dataloaders[TRAIN])\n",
        "    val_batches = len(dataloaders[VAL])\n",
        "    \n",
        "    for epoch in range(num_epochs):\n",
        "        print(\"Epoch {}/{}\".format(epoch, num_epochs))\n",
        "        print('-' * 10)\n",
        "        \n",
        "        loss_train = 0\n",
        "        loss_val = 0\n",
        "        acc_train = 0\n",
        "        acc_val = 0\n",
        "        \n",
        "        model.train(True)\n",
        "        \n",
        "        for i, data in enumerate(dataloaders[TRAIN]):\n",
        "            if i % 10 == 0:\n",
        "                print(\"\\rTraining batch {}/{}\".format(i, train_batches), end='', flush=True)\n",
        "                \n",
        "            inputs, labels = data\n",
        "            \n",
        "            if use_gpu:\n",
        "                inputs, labels = Variable(inputs.cuda()), Variable(labels.cuda())\n",
        "            else:\n",
        "                inputs, labels = Variable(inputs), Variable(labels)\n",
        "            \n",
        "            optimizer.zero_grad()\n",
        "            \n",
        "            outputs = model(inputs)\n",
        "            \n",
        "            _, preds = torch.max(outputs.data, 1)\n",
        "            loss = criterion(outputs, labels)\n",
        "            \n",
        "            loss.backward()\n",
        "            optimizer.step()\n",
        "            \n",
        "            loss_train += loss.data\n",
        "            acc_train += torch.sum(preds == labels.data)\n",
        "            \n",
        "            del inputs, labels, outputs, preds\n",
        "            torch.cuda.empty_cache()\n",
        "        \n",
        "        print()\n",
        "        avg_loss = loss_train / dataset_sizes[TRAIN]\n",
        "        avg_acc = acc_train / dataset_sizes[TRAIN]\n",
        "        \n",
        "        model.train(False)\n",
        "        model.eval()\n",
        "            \n",
        "        for i, data in enumerate(dataloaders[VAL]):\n",
        "            if i % 100 == 0:\n",
        "                print(\"\\rValidation batch {}/{}\".format(i, val_batches), end='', flush=True)\n",
        "                \n",
        "            inputs, labels = data\n",
        "            \n",
        "            if use_gpu:\n",
        "                inputs, labels = Variable(inputs.cuda(), volatile=True), Variable(labels.cuda(), volatile=True)\n",
        "            else:\n",
        "                inputs, labels = Variable(inputs, volatile=True), Variable(labels, volatile=True)\n",
        "            \n",
        "            optimizer.zero_grad()\n",
        "            \n",
        "            outputs = model(inputs)\n",
        "            \n",
        "            _, preds = torch.max(outputs.data, 1)\n",
        "            loss = criterion(outputs, labels)\n",
        "            \n",
        "            loss_val += loss.data\n",
        "            acc_val += torch.sum(preds == labels.data)\n",
        "            \n",
        "            del inputs, labels, outputs, preds\n",
        "            torch.cuda.empty_cache()\n",
        "        \n",
        "        avg_loss_val = loss_val / dataset_sizes[VAL]\n",
        "        avg_acc_val = acc_val / dataset_sizes[VAL]\n",
        "        \n",
        "        print()\n",
        "        print(\"Epoch {} result: \".format(epoch))\n",
        "        print(\"Avg loss (train): {:.4f}\".format(avg_loss))\n",
        "        print(\"Avg acc (train): {:.4f}\".format(avg_acc))\n",
        "        print(\"Avg loss (val): {:.4f}\".format(avg_loss_val))\n",
        "        print(\"Avg acc (val): {:.4f}\".format(avg_acc_val))\n",
        "        print('-' * 10)\n",
        "        print()\n",
        "        \n",
        "        if avg_acc_val > best_acc:\n",
        "            best_acc = avg_acc_val\n",
        "            best_model_wts = copy.deepcopy(model.state_dict())\n",
        "        \n",
        "    elapsed_time = time.time() - since\n",
        "    print()\n",
        "    print(\"Training completed in {:.0f}m {:.0f}s\".format(elapsed_time // 60, elapsed_time % 60))\n",
        "    print(\"Best acc: {:.4f}\".format(best_acc))\n",
        "    \n",
        "    model.load_state_dict(best_model_wts)\n",
        "    return model"
      ],
      "execution_count": 10,
      "outputs": []
    },
    {
      "cell_type": "code",
      "metadata": {
        "colab": {
          "base_uri": "https://localhost:8080/",
          "height": 66,
          "referenced_widgets": [
            "a8700d3a60574646bb8c27c56f4367ab",
            "cf3f6170f5474ffca91934a73bd43aa1",
            "ae7a24b0e0144fe7808298f152ae32aa",
            "c6160f8c9b9e4f39bf4e5ae2f03de3b2",
            "e38b269ea94948b0b8e44287661887cb",
            "2cc410f1430f4e3d8f1570fd2c11983d",
            "068f2116d0e34311b80ad9c66725055a",
            "dbbd70134af94d41b02806a18e30ec43",
            "63564859d5eb4a869aa2d60fe0c70568",
            "61b31babcc41432c8add76d03633d847",
            "2cd5e8c4c1cb4d1c8d1de8c69d2fa648"
          ]
        },
        "id": "QgIfPMBwseTr",
        "outputId": "85966b03-f77e-4839-a2f6-240a20b78a85"
      },
      "source": [
        "# Tinh chỉnh chuyển đổi\n",
        "# Load the pretrained model from pytorch\n",
        "resnet50 = models.resnet50(pretrained=True)\n",
        "\n",
        "# Freeze training for all layers\n",
        "for param in resnet50.parameters():\n",
        "    param.require_grad = False\n",
        "\n",
        "# Parameters of newly constructed modules have requires_grad=True by default\n",
        "num_features = resnet50.fc.in_features\n",
        "resnet50.fc = nn.Linear(num_features, len(class_names))\n",
        "\n",
        "if use_gpu:\n",
        "    resnet50.cuda() #.cuda() will move everything to the GPU side\n",
        "\n",
        "# Observe that all parameters are being optimized\n",
        "optimizer_ft = optim.SGD(resnet50.parameters(), lr=0.001, momentum=0.9, weight_decay=5e-4)\n",
        "# Cross Entropy Loss\n",
        "criterion = nn.CrossEntropyLoss()\n",
        "# Decay LR by a factor of 0.1 every 7 epochs\n",
        "exp_lr_scheduler = lr_scheduler.StepLR(optimizer_ft, step_size=7, gamma=0.1)"
      ],
      "execution_count": 11,
      "outputs": [
        {
          "output_type": "stream",
          "name": "stderr",
          "text": [
            "Downloading: \"https://download.pytorch.org/models/resnet50-0676ba61.pth\" to /root/.cache/torch/hub/checkpoints/resnet50-0676ba61.pth\n"
          ]
        },
        {
          "output_type": "display_data",
          "data": {
            "application/vnd.jupyter.widget-view+json": {
              "model_id": "a8700d3a60574646bb8c27c56f4367ab",
              "version_minor": 0,
              "version_major": 2
            },
            "text/plain": [
              "  0%|          | 0.00/97.8M [00:00<?, ?B/s]"
            ]
          },
          "metadata": {}
        }
      ]
    },
    {
      "cell_type": "code",
      "metadata": {
        "colab": {
          "base_uri": "https://localhost:8080/"
        },
        "id": "cL0WUPF5sgHk",
        "outputId": "5298f265-b608-45e4-b4f8-222c3908f201"
      },
      "source": [
        "# Thực hiện huấn luyện\n",
        "resnet50 = train_model(resnet50, criterion, optimizer_ft, exp_lr_scheduler, num_epochs=20)\n",
        "torch.save(resnet50.state_dict(), 'ResNet_50.pt')"
      ],
      "execution_count": 12,
      "outputs": [
        {
          "output_type": "stream",
          "name": "stdout",
          "text": [
            "Epoch 0/20\n",
            "----------\n"
          ]
        },
        {
          "output_type": "stream",
          "name": "stderr",
          "text": [
            "/usr/local/lib/python3.7/dist-packages/torch/utils/data/dataloader.py:481: UserWarning: This DataLoader will create 4 worker processes in total. Our suggested max number of worker in current system is 2, which is smaller than what this DataLoader is going to create. Please be aware that excessive worker creation might get DataLoader running slow or even freeze, lower the worker number to avoid potential slowness/freeze if necessary.\n",
            "  cpuset_checked))\n"
          ]
        },
        {
          "output_type": "stream",
          "name": "stdout",
          "text": [
            "Training batch 60/61\n",
            "Validation batch 0/18"
          ]
        },
        {
          "output_type": "stream",
          "name": "stderr",
          "text": [
            "/usr/local/lib/python3.7/dist-packages/ipykernel_launcher.py:66: UserWarning: volatile was removed and now has no effect. Use `with torch.no_grad():` instead.\n"
          ]
        },
        {
          "output_type": "stream",
          "name": "stdout",
          "text": [
            "\n",
            "Epoch 0 result: \n",
            "Avg loss (train): 0.1292\n",
            "Avg acc (train): 0.5643\n",
            "Avg loss (val): 0.0632\n",
            "Avg acc (val): 0.7826\n",
            "----------\n",
            "\n",
            "Epoch 1/20\n",
            "----------\n",
            "Training batch 60/61\n",
            "Validation batch 0/18\n",
            "Epoch 1 result: \n",
            "Avg loss (train): 0.0767\n",
            "Avg acc (train): 0.7822\n",
            "Avg loss (val): 0.0246\n",
            "Avg acc (val): 0.9493\n",
            "----------\n",
            "\n",
            "Epoch 2/20\n",
            "----------\n",
            "Training batch 60/61\n",
            "Validation batch 0/18\n",
            "Epoch 2 result: \n",
            "Avg loss (train): 0.0635\n",
            "Avg acc (train): 0.8091\n",
            "Avg loss (val): 0.0217\n",
            "Avg acc (val): 0.9783\n",
            "----------\n",
            "\n",
            "Epoch 3/20\n",
            "----------\n",
            "Training batch 60/61\n",
            "Validation batch 0/18\n",
            "Epoch 3 result: \n",
            "Avg loss (train): 0.0462\n",
            "Avg acc (train): 0.8734\n",
            "Avg loss (val): 0.0460\n",
            "Avg acc (val): 0.8261\n",
            "----------\n",
            "\n",
            "Epoch 4/20\n",
            "----------\n",
            "Training batch 60/61\n",
            "Validation batch 0/18\n",
            "Epoch 4 result: \n",
            "Avg loss (train): 0.0448\n",
            "Avg acc (train): 0.8693\n",
            "Avg loss (val): 0.0133\n",
            "Avg acc (val): 0.9565\n",
            "----------\n",
            "\n",
            "Epoch 5/20\n",
            "----------\n",
            "Training batch 60/61\n",
            "Validation batch 0/18\n",
            "Epoch 5 result: \n",
            "Avg loss (train): 0.0284\n",
            "Avg acc (train): 0.9232\n",
            "Avg loss (val): 0.0109\n",
            "Avg acc (val): 0.9855\n",
            "----------\n",
            "\n",
            "Epoch 6/20\n",
            "----------\n",
            "Training batch 60/61\n",
            "Validation batch 0/18\n",
            "Epoch 6 result: \n",
            "Avg loss (train): 0.0281\n",
            "Avg acc (train): 0.9232\n",
            "Avg loss (val): 0.0087\n",
            "Avg acc (val): 0.9783\n",
            "----------\n",
            "\n",
            "Epoch 7/20\n",
            "----------\n",
            "Training batch 60/61\n",
            "Validation batch 0/18\n",
            "Epoch 7 result: \n",
            "Avg loss (train): 0.0277\n",
            "Avg acc (train): 0.9274\n",
            "Avg loss (val): 0.0168\n",
            "Avg acc (val): 0.9710\n",
            "----------\n",
            "\n",
            "Epoch 8/20\n",
            "----------\n",
            "Training batch 60/61\n",
            "Validation batch 0/18\n",
            "Epoch 8 result: \n",
            "Avg loss (train): 0.0253\n",
            "Avg acc (train): 0.9315\n",
            "Avg loss (val): 0.0194\n",
            "Avg acc (val): 0.9420\n",
            "----------\n",
            "\n",
            "Epoch 9/20\n",
            "----------\n",
            "Training batch 60/61\n",
            "Validation batch 0/18\n",
            "Epoch 9 result: \n",
            "Avg loss (train): 0.0248\n",
            "Avg acc (train): 0.9440\n",
            "Avg loss (val): 0.0103\n",
            "Avg acc (val): 0.9855\n",
            "----------\n",
            "\n",
            "Epoch 10/20\n",
            "----------\n",
            "Training batch 60/61\n",
            "Validation batch 0/18\n",
            "Epoch 10 result: \n",
            "Avg loss (train): 0.0214\n",
            "Avg acc (train): 0.9481\n",
            "Avg loss (val): 0.0121\n",
            "Avg acc (val): 0.9783\n",
            "----------\n",
            "\n",
            "Epoch 11/20\n",
            "----------\n",
            "Training batch 60/61\n",
            "Validation batch 0/18\n",
            "Epoch 11 result: \n",
            "Avg loss (train): 0.0348\n",
            "Avg acc (train): 0.9461\n",
            "Avg loss (val): 0.0105\n",
            "Avg acc (val): 0.9710\n",
            "----------\n",
            "\n",
            "Epoch 12/20\n",
            "----------\n",
            "Training batch 60/61\n",
            "Validation batch 0/18\n",
            "Epoch 12 result: \n",
            "Avg loss (train): 0.0232\n",
            "Avg acc (train): 0.9378\n",
            "Avg loss (val): 0.0135\n",
            "Avg acc (val): 0.9783\n",
            "----------\n",
            "\n",
            "Epoch 13/20\n",
            "----------\n",
            "Training batch 60/61\n",
            "Validation batch 0/18\n",
            "Epoch 13 result: \n",
            "Avg loss (train): 0.0278\n",
            "Avg acc (train): 0.9253\n",
            "Avg loss (val): 0.0272\n",
            "Avg acc (val): 0.9493\n",
            "----------\n",
            "\n",
            "Epoch 14/20\n",
            "----------\n",
            "Training batch 60/61\n",
            "Validation batch 0/18\n",
            "Epoch 14 result: \n",
            "Avg loss (train): 0.0174\n",
            "Avg acc (train): 0.9502\n",
            "Avg loss (val): 0.0081\n",
            "Avg acc (val): 0.9928\n",
            "----------\n",
            "\n",
            "Epoch 15/20\n",
            "----------\n",
            "Training batch 60/61\n",
            "Validation batch 0/18\n",
            "Epoch 15 result: \n",
            "Avg loss (train): 0.0118\n",
            "Avg acc (train): 0.9772\n",
            "Avg loss (val): 0.0097\n",
            "Avg acc (val): 0.9855\n",
            "----------\n",
            "\n",
            "Epoch 16/20\n",
            "----------\n",
            "Training batch 60/61\n",
            "Validation batch 0/18\n",
            "Epoch 16 result: \n",
            "Avg loss (train): 0.0196\n",
            "Avg acc (train): 0.9419\n",
            "Avg loss (val): 0.0157\n",
            "Avg acc (val): 0.9638\n",
            "----------\n",
            "\n",
            "Epoch 17/20\n",
            "----------\n",
            "Training batch 60/61\n",
            "Validation batch 0/18\n",
            "Epoch 17 result: \n",
            "Avg loss (train): 0.0179\n",
            "Avg acc (train): 0.9461\n",
            "Avg loss (val): 0.0087\n",
            "Avg acc (val): 0.9783\n",
            "----------\n",
            "\n",
            "Epoch 18/20\n",
            "----------\n",
            "Training batch 60/61\n",
            "Validation batch 0/18\n",
            "Epoch 18 result: \n",
            "Avg loss (train): 0.0128\n",
            "Avg acc (train): 0.9668\n",
            "Avg loss (val): 0.0095\n",
            "Avg acc (val): 0.9710\n",
            "----------\n",
            "\n",
            "Epoch 19/20\n",
            "----------\n",
            "Training batch 60/61\n",
            "Validation batch 0/18\n",
            "Epoch 19 result: \n",
            "Avg loss (train): 0.0154\n",
            "Avg acc (train): 0.9627\n",
            "Avg loss (val): 0.0082\n",
            "Avg acc (val): 0.9855\n",
            "----------\n",
            "\n",
            "\n",
            "Training completed in 12m 8s\n",
            "Best acc: 0.9928\n"
          ]
        }
      ]
    },
    {
      "cell_type": "code",
      "metadata": {
        "id": "ZuegaCGN47Hr"
      },
      "source": [
        "def predict(model, test_image_name):\n",
        "\n",
        "    idx_to_class = {v: k for k, v in data['train'].class_to_idx.items()}\n",
        "    #print(idx_to_class)\n",
        "\n",
        "    transform = transforms.Compose([\n",
        "        transforms.Resize(size=256),\n",
        "        transforms.CenterCrop(size=224),\n",
        "        transforms.ToTensor(),\n",
        "        transforms.Normalize([0.485, 0.456, 0.406],\n",
        "                             [0.229, 0.224, 0.225])\n",
        "    ])\n",
        "\n",
        "    test_image = Image.open(test_image_name)\n",
        "    plt.imshow(test_image)\n",
        "    \n",
        "    test_image_tensor = transform(test_image)\n",
        "    if torch.cuda.is_available():\n",
        "        test_image_tensor = test_image_tensor.view(1, 3, 224, 224).cuda()\n",
        "    else:\n",
        "        test_image_tensor = test_image_tensor.view(1, 3, 224, 224)\n",
        "    \n",
        "    with torch.no_grad():\n",
        "        model.eval()\n",
        "        # Model outputs log probabilities\n",
        "        out = model(test_image_tensor)\n",
        "        ps = torch.exp(out)\n",
        "\n",
        "        topk, topclass = ps.topk(3, dim=1)\n",
        "        cls = idx_to_class[topclass.cpu().numpy()[0][0]]\n",
        "        score = topk.cpu().numpy()[0][0]\n",
        "        print(\"Predcition :\", idx_to_class[topclass.cpu().numpy()[0][0]], \", Score: \", topk.cpu().numpy()[0][0])"
      ],
      "execution_count": 29,
      "outputs": []
    },
    {
      "cell_type": "code",
      "metadata": {
        "colab": {
          "base_uri": "https://localhost:8080/"
        },
        "id": "iyshabMhyLrY",
        "outputId": "c5715522-64d7-4456-aa7c-63ca3dde327c"
      },
      "source": [
        "resnet50.load_state_dict(torch.load(\"ResNet_50.pt\"))"
      ],
      "execution_count": 30,
      "outputs": [
        {
          "output_type": "execute_result",
          "data": {
            "text/plain": [
              "<All keys matched successfully>"
            ]
          },
          "metadata": {},
          "execution_count": 30
        }
      ]
    },
    {
      "cell_type": "code",
      "metadata": {
        "colab": {
          "base_uri": "https://localhost:8080/",
          "height": 287
        },
        "id": "u0OMZHKp-dAQ",
        "outputId": "7a7b27b1-0877-43f9-b9ea-7572a75f5084"
      },
      "source": [
        "predict(resnet50, '/content/data/sampledata/img10.jpeg')"
      ],
      "execution_count": 31,
      "outputs": [
        {
          "output_type": "error",
          "ename": "NameError",
          "evalue": "ignored",
          "traceback": [
            "\u001b[0;31m---------------------------------------------------------------------------\u001b[0m",
            "\u001b[0;31mNameError\u001b[0m                                 Traceback (most recent call last)",
            "\u001b[0;32m<ipython-input-31-2682e285544c>\u001b[0m in \u001b[0;36m<module>\u001b[0;34m()\u001b[0m\n\u001b[0;32m----> 1\u001b[0;31m \u001b[0mpredict\u001b[0m\u001b[0;34m(\u001b[0m\u001b[0mresnet50\u001b[0m\u001b[0;34m,\u001b[0m \u001b[0;34m'/content/data/sampledata/img10.jpeg'\u001b[0m\u001b[0;34m)\u001b[0m\u001b[0;34m\u001b[0m\u001b[0;34m\u001b[0m\u001b[0m\n\u001b[0m",
            "\u001b[0;32m<ipython-input-29-5f676fb66eb0>\u001b[0m in \u001b[0;36mpredict\u001b[0;34m(model, test_image_name)\u001b[0m\n\u001b[1;32m      1\u001b[0m \u001b[0;32mdef\u001b[0m \u001b[0mpredict\u001b[0m\u001b[0;34m(\u001b[0m\u001b[0mmodel\u001b[0m\u001b[0;34m,\u001b[0m \u001b[0mtest_image_name\u001b[0m\u001b[0;34m)\u001b[0m\u001b[0;34m:\u001b[0m\u001b[0;34m\u001b[0m\u001b[0;34m\u001b[0m\u001b[0m\n\u001b[1;32m      2\u001b[0m \u001b[0;34m\u001b[0m\u001b[0m\n\u001b[0;32m----> 3\u001b[0;31m     \u001b[0midx_to_class\u001b[0m \u001b[0;34m=\u001b[0m \u001b[0;34m{\u001b[0m\u001b[0mv\u001b[0m\u001b[0;34m:\u001b[0m \u001b[0mk\u001b[0m \u001b[0;32mfor\u001b[0m \u001b[0mk\u001b[0m\u001b[0;34m,\u001b[0m \u001b[0mv\u001b[0m \u001b[0;32min\u001b[0m \u001b[0mdata\u001b[0m\u001b[0;34m[\u001b[0m\u001b[0;34m'train'\u001b[0m\u001b[0;34m]\u001b[0m\u001b[0;34m.\u001b[0m\u001b[0mclass_to_idx\u001b[0m\u001b[0;34m.\u001b[0m\u001b[0mitems\u001b[0m\u001b[0;34m(\u001b[0m\u001b[0;34m)\u001b[0m\u001b[0;34m}\u001b[0m\u001b[0;34m\u001b[0m\u001b[0;34m\u001b[0m\u001b[0m\n\u001b[0m\u001b[1;32m      4\u001b[0m     \u001b[0;31m#print(idx_to_class)\u001b[0m\u001b[0;34m\u001b[0m\u001b[0;34m\u001b[0m\u001b[0;34m\u001b[0m\u001b[0m\n\u001b[1;32m      5\u001b[0m \u001b[0;34m\u001b[0m\u001b[0m\n",
            "\u001b[0;31mNameError\u001b[0m: name 'data' is not defined"
          ]
        }
      ]
    }
  ]
}